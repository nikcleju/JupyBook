{
 "cells": [
  {
   "cell_type": "markdown",
   "source": [
    "# The Normal distribution\n",
    "\n",
    "## Definition\n",
    "\n",
    "The normal distribution is the most important probability distribution out there, because it is extremely most common.\n",
    "It arrises naturally in a lot of natural phenomena.\n"
   ],
   "metadata": {}
  },
  {
   "cell_type": "markdown",
   "source": [
    "## Play with the parameters\n",
    "\n",
    "The following display is interactive, if you run it in a live environment."
   ],
   "metadata": {}
  },
  {
   "cell_type": "code",
   "execution_count": 3,
   "source": [
    "from ipywidgets import widgets\n",
    "import matplotlib.pyplot as plt \n",
    "import math\n",
    "import numpy as np\n",
    "\n",
    "# Create the output widget\n",
    "out = widgets.Output(layout={'border': '1px solid black'})\n",
    "\n",
    "@widgets.interact(mu=(-10, 10, 0.1), sigma2=(0.1, 50, 0.1), T=(-20, 20, 0.1))\n",
    "def plot_normal(mu=0, sigma2=1, T=0):\n",
    "\n",
    "    limits = [-20, 20, 0, 0.5]\n",
    "    sigma = math.sqrt(sigma2)\n",
    "    x = np.linspace(limits[0], limits[1], 1000)\n",
    "    y = 1/(np.sqrt(sigma2*2*math.pi))*np.exp(-(x - mu)**2/(2*sigma2))\n",
    "    \n",
    "    fig, ax = plt.subplots(figsize=(6,4), dpi = 100)\n",
    "    \n",
    "    ax.plot(x, y)\n",
    "    ax.axis(limits)\n",
    "   \n",
    "    plt.fill_between(x, y, where = (x <= T))\n",
    "    area = 0.5*(1+math.erf((T-mu)/math.sqrt(sigma2*2)))\n",
    "    \n",
    "    # Mark \\mu on the graph\n",
    "    \n",
    "    ax.plot(mu, 0, 'o')\n",
    "#     ax.annotate('\\mu', \n",
    "#                 xy=(mu, 0), \n",
    "#                 xytext=(mu, -1),\n",
    "#                 textcoords='axes fraction',\n",
    "#                 arrowprops=dict(facecolor='black', shrink=0.05),\n",
    "#                 )\n",
    "    \n",
    "    plt.show()\n",
    "\n",
    "    with out:\n",
    "        print('Output:\\n   Probability = {}'.format(area))\n",
    "\n",
    "    out.clear_output(wait=True)\n",
    "\n",
    "# Display the outout widget\n",
    "out"
   ],
   "outputs": [
    {
     "output_type": "display_data",
     "data": {
      "text/plain": [
       "interactive(children=(FloatSlider(value=0.0, description='mu', max=10.0, min=-10.0), FloatSlider(value=1.0, de…"
      ],
      "application/vnd.jupyter.widget-view+json": {
       "version_major": 2,
       "version_minor": 0,
       "model_id": "9f8f3b2b0ff9425196961d83d101c4ed"
      }
     },
     "metadata": {}
    },
    {
     "output_type": "display_data",
     "data": {
      "text/plain": [
       "Output(layout=Layout(border='1px solid black'))"
      ],
      "application/vnd.jupyter.widget-view+json": {
       "version_major": 2,
       "version_minor": 0,
       "model_id": "bca63a20a63d480489fbcbc62cdf4d52"
      }
     },
     "metadata": {}
    }
   ],
   "metadata": {
    "tags": [
     "hide-input"
    ]
   }
  }
 ],
 "metadata": {
  "celltoolbar": "Tags",
  "kernelspec": {
   "name": "python3",
   "display_name": "Python 3.8.5 64-bit ('base': conda)"
  },
  "language_info": {
   "codemirror_mode": {
    "name": "ipython",
    "version": 3
   },
   "file_extension": ".py",
   "mimetype": "text/x-python",
   "name": "python",
   "nbconvert_exporter": "python",
   "pygments_lexer": "ipython3",
   "version": "3.8.5"
  },
  "interpreter": {
   "hash": "64be5866348a232da44f43870e2796c39c14b207a06220a0410b3c2ab015a68b"
  }
 },
 "nbformat": 4,
 "nbformat_minor": 4
}