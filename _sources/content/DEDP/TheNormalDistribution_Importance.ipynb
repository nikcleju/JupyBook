
### Why is it so common?

The reason the normal distribution is as common as it is can be explained:

1. The average of a large number of random variables having *any* distribution tends to have a normal distribution

2. For a fixed variance, the normal distribution has the highest entropy among all possible distributions