{
 "cells": [
  {
   "cell_type": "markdown",
   "metadata": {},
   "source": [
    "Here is the Gaussian function"
   ]
  },
  {
   "cell_type": "code",
   "execution_count": 20,
   "metadata": {},
   "outputs": [
    {
     "data": {
      "application/vnd.jupyter.widget-view+json": {
       "model_id": "9d65285a7755445ebacf328b807a55d3",
       "version_major": 2,
       "version_minor": 0
      },
      "text/plain": [
       "interactive(children=(FloatSlider(value=0.0, description='mu', max=10.0, min=-10.0), FloatSlider(value=1.0, de…"
      ]
     },
     "metadata": {},
     "output_type": "display_data"
    }
   ],
   "source": [
    "from ipywidgets import widgets\n",
    "import matplotlib.pyplot as plt \n",
    "import math\n",
    "import numpy as np\n",
    "\n",
    "@widgets.interact(mu=(-10, 10, 0.1), sigma2=(0.1, 50, 0.1), T=(-20, 20, 0.1))\n",
    "def plot_normal(mu=0, sigma2=1, T=0):\n",
    "    limits = [-20, 20, 0, 0.5]\n",
    "    sigma = math.sqrt(sigma2)\n",
    "    x = np.linspace(limits[0], limits[1], 1000)\n",
    "    y = 1/(np.sqrt(sigma2*2*math.pi))*np.exp(-(x - mu)**2/(2*sigma2))\n",
    "    plt.plot(x, y)\n",
    "    plt.axis(limits)\n",
    "    \n",
    "    plt.fill_between(x, y, where = (x > T))\n",
    "    area = 1 - 0.5*(1+math.erf((T-mu)/math.sqrt(sigma2*2)))\n",
    "    print('=============')\n",
    "    print('Output')\n",
    "    print('=============')\n",
    "    print('  Probability = {}'.format(area))"
   ]
  }
 ],
 "metadata": {
  "kernelspec": {
   "display_name": "Python 3",
   "language": "python",
   "name": "python3"
  },
  "language_info": {
   "codemirror_mode": {
    "name": "ipython",
    "version": 3
   },
   "file_extension": ".py",
   "mimetype": "text/x-python",
   "name": "python",
   "nbconvert_exporter": "python",
   "pygments_lexer": "ipython3",
   "version": "3.7.3"
  }
 },
 "nbformat": 4,
 "nbformat_minor": 4
}
