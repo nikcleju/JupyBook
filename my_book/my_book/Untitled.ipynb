{
 "cells": [
  {
   "cell_type": "markdown",
   "metadata": {},
   "source": [
    "Here is the Gaussian function"
   ]
  },
  {
   "cell_type": "code",
   "execution_count": 130,
   "metadata": {},
   "outputs": [
    {
     "data": {
      "application/vnd.jupyter.widget-view+json": {
       "model_id": "7b6be60e115f446e8da2d368f0e27a32",
       "version_major": 2,
       "version_minor": 0
      },
      "text/plain": [
       "interactive(children=(FloatSlider(value=0.0, description='mu', max=10.0, min=-10.0), FloatSlider(value=1.0, de…"
      ]
     },
     "metadata": {},
     "output_type": "display_data"
    },
    {
     "data": {
      "application/vnd.jupyter.widget-view+json": {
       "model_id": "72999a84cf924126b85d74e5e514cc6d",
       "version_major": 2,
       "version_minor": 0
      },
      "text/plain": [
       "Output(layout=Layout(border='1px solid black'))"
      ]
     },
     "metadata": {},
     "output_type": "display_data"
    }
   ],
   "source": [
    "from ipywidgets import widgets\n",
    "import matplotlib.pyplot as plt \n",
    "import math\n",
    "import numpy as np\n",
    "\n",
    "# Create the output widget\n",
    "out = widgets.Output(layout={'border': '1px solid black'})\n",
    "\n",
    "@widgets.interact(mu=(-10, 10, 0.1), sigma2=(0.1, 50, 0.1), T=(-20, 20, 0.1))\n",
    "def plot_normal(mu=0, sigma2=1, T=0):\n",
    "\n",
    "    limits = [-20, 20, 0, 0.5]\n",
    "    sigma = math.sqrt(sigma2)\n",
    "    x = np.linspace(limits[0], limits[1], 1000)\n",
    "    y = 1/(np.sqrt(sigma2*2*math.pi))*np.exp(-(x - mu)**2/(2*sigma2))\n",
    "    \n",
    "    fig, ax = plt.subplots(figsize=(6,4), dpi = 100)\n",
    "    \n",
    "    ax.plot(x, y)\n",
    "    ax.axis(limits)\n",
    "   \n",
    "    plt.fill_between(x, y, where = (x > T))\n",
    "    area = 1 - 0.5*(1+math.erf((T-mu)/math.sqrt(sigma2*2)))\n",
    "    \n",
    "    # Mark \\mu on the graph\n",
    "    \n",
    "    ax.plot(mu, 0, 'o')\n",
    "#     ax.annotate('\\mu', \n",
    "#                 xy=(mu, 0), \n",
    "#                 xytext=(mu, -1),\n",
    "#                 textcoords='axes fraction',\n",
    "#                 arrowprops=dict(facecolor='black', shrink=0.05),\n",
    "#                 )\n",
    "    \n",
    "    plt.show()\n",
    "\n",
    "    with out:\n",
    "        print('Output:\\n   Probability = {}'.format(area))\n",
    "\n",
    "    out.clear_output(wait=True)\n",
    "\n",
    "# Display the outout widget\n",
    "out"
   ]
  },
  {
   "cell_type": "code",
   "execution_count": null,
   "metadata": {},
   "outputs": [],
   "source": [
    "from ipywidgets import IntSlider, Output\n",
    "\n",
    "int_range = IntSlider()\n",
    "output = Output()\n",
    "\n",
    "display(int_range)\n",
    "display(output)\n",
    "\n",
    "@output.capture()\n",
    "def on_value_change(change):\n",
    "    print(change['new'])\n",
    "   \n",
    "int_range.observe(on_value_change, names='value')\n"
   ]
  }
 ],
 "metadata": {
  "kernelspec": {
   "display_name": "Python 3",
   "language": "python",
   "name": "python3"
  },
  "language_info": {
   "codemirror_mode": {
    "name": "ipython",
    "version": 3
   },
   "file_extension": ".py",
   "mimetype": "text/x-python",
   "name": "python",
   "nbconvert_exporter": "python",
   "pygments_lexer": "ipython3",
   "version": "3.7.9"
  }
 },
 "nbformat": 4,
 "nbformat_minor": 4
}
