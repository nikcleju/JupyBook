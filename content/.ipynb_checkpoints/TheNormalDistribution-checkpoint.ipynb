{
 "cells": [
  {
   "cell_type": "markdown",
   "metadata": {},
   "source": [
    "# The Normal distribution\n",
    "\n",
    "## Definition\n",
    "\n",
    "## The importance\n",
    "\n",
    "The normal distribution is the most important probability distribution out there, because it is extremely most common.\n",
    "It arrises naturally in a lot of natural phenomena.\n"
   ]
  },
  {
   "cell_type": "code",
   "execution_count": 1,
   "metadata": {},
   "outputs": [
    {
     "data": {
      "application/vnd.jupyter.widget-view+json": {
       "model_id": "7a28c6e274c34b61adf6751396b4a28b",
       "version_major": 2,
       "version_minor": 0
      },
      "text/plain": [
       "interactive(children=(FloatSlider(value=0.0, description='mu', max=10.0, min=-10.0), FloatSlider(value=1.0, de…"
      ]
     },
     "metadata": {},
     "output_type": "display_data"
    },
    {
     "data": {
      "application/vnd.jupyter.widget-view+json": {
       "model_id": "e4e991cbcadb4646a2069d8e2f3935f5",
       "version_major": 2,
       "version_minor": 0
      },
      "text/plain": [
       "Output(layout=Layout(border='1px solid black'))"
      ]
     },
     "metadata": {},
     "output_type": "display_data"
    }
   ],
   "source": [
    "from ipywidgets import widgets\n",
    "import matplotlib.pyplot as plt \n",
    "import math\n",
    "import numpy as np\n",
    "\n",
    "# Create the output widget\n",
    "out = widgets.Output(layout={'border': '1px solid black'})\n",
    "\n",
    "@widgets.interact(mu=(-10, 10, 0.1), sigma2=(0.1, 50, 0.1), T=(-20, 20, 0.1))\n",
    "def plot_normal(mu=0, sigma2=1, T=0):\n",
    "\n",
    "    limits = [-20, 20, 0, 0.5]\n",
    "    sigma = math.sqrt(sigma2)\n",
    "    x = np.linspace(limits[0], limits[1], 1000)\n",
    "    y = 1/(np.sqrt(sigma2*2*math.pi))*np.exp(-(x - mu)**2/(2*sigma2))\n",
    "    \n",
    "    fig, ax = plt.subplots(figsize=(6,4), dpi = 100)\n",
    "    \n",
    "    ax.plot(x, y)\n",
    "    ax.axis(limits)\n",
    "   \n",
    "    plt.fill_between(x, y, where = (x > T))\n",
    "    area = 1 - 0.5*(1+math.erf((T-mu)/math.sqrt(sigma2*2)))\n",
    "    \n",
    "    # Mark \\mu on the graph\n",
    "    \n",
    "    ax.plot(mu, 0, 'o')\n",
    "#     ax.annotate('\\mu', \n",
    "#                 xy=(mu, 0), \n",
    "#                 xytext=(mu, -1),\n",
    "#                 textcoords='axes fraction',\n",
    "#                 arrowprops=dict(facecolor='black', shrink=0.05),\n",
    "#                 )\n",
    "    \n",
    "    plt.show()\n",
    "\n",
    "    with out:\n",
    "        print('Output:\\n   Probability = {}'.format(area))\n",
    "\n",
    "    out.clear_output(wait=True)\n",
    "\n",
    "# Display the outout widget\n",
    "out"
   ]
  },
  {
   "cell_type": "markdown",
   "metadata": {},
   "source": [
    "## Decision with one sample"
   ]
  },
  {
   "cell_type": "code",
   "execution_count": 2,
   "metadata": {},
   "outputs": [
    {
     "data": {
      "application/vnd.jupyter.widget-view+json": {
       "model_id": "7dbca5a8b9d5477b9eb5b2c8783d5ee5",
       "version_major": 2,
       "version_minor": 0
      },
      "text/plain": [
       "interactive(children=(FloatSlider(value=0.0, description='mu0', max=10.0, min=-10.0), FloatSlider(value=5.0, d…"
      ]
     },
     "metadata": {},
     "output_type": "display_data"
    },
    {
     "data": {
      "application/vnd.jupyter.widget-view+json": {
       "model_id": "350b612d785c49689d52b79eb1a82ade",
       "version_major": 2,
       "version_minor": 0
      },
      "text/plain": [
       "HTMLMath(value='Likelihood ratio: $$\\\\frac{w(r|H_1)}{w(r|H_0)} = \\\\frac{ 0.00 }{ 0.40 } = 0.00 \\\\Rightarrow$$ …"
      ]
     },
     "metadata": {},
     "output_type": "display_data"
    }
   ],
   "source": [
    "from ipywidgets import widgets\n",
    "import matplotlib.pyplot as plt \n",
    "import math\n",
    "import numpy as np\n",
    "from scipy.stats import norm\n",
    "\n",
    "# Create the output widget\n",
    "out2 = widgets.HTMLMath()\n",
    "\n",
    "@widgets.interact(mu0=(-10, 10, 0.1), mu1=(-10, 10, 0.1), sigma2=(0.1, 50, 0.1), r=(-20, 20, 0.1))\n",
    "def decision_with_one_sample(mu0=0, mu1=5, sigma2=1, r=0):\n",
    "\n",
    "    limits = [-20, 20, 0, 0.5]\n",
    "    sigma = math.sqrt(sigma2)\n",
    "    x = np.linspace(limits[0], limits[1], 1000)\n",
    "    w0 = norm(loc=mu0, scale=sigma)\n",
    "    w1 = norm(loc=mu1, scale=sigma)\n",
    "\n",
    "   \n",
    "    # Prepare figure\n",
    "    fig, ax = plt.subplots(figsize=(6,4), dpi = 100)\n",
    "    #ax.axis(limits)\n",
    "    \n",
    "    # Plot density functions and centers\n",
    "    ax.plot(x, w0.pdf(x))\n",
    "    ax.plot(x, w1.pdf(x))\n",
    "    #ax.plot(mu1, 0, 'o')\n",
    "    #ax.plot(mu2, 0, 'o')\n",
    "    \n",
    "    # Plot sample and vertical lines\n",
    "    eps = 0.1\n",
    "    ax.vlines(r-eps, 0, w0.pdf(r-eps), colors='b')\n",
    "    ax.vlines(r+eps, 0, w1.pdf(r+eps), colors='r')\n",
    "    ax.plot(r, 0, 'o')\n",
    "       \n",
    "    plt.show()\n",
    "\n",
    "    # Display decision\n",
    "    with out:\n",
    "        print(r'$$\\frac{1}{2}Output:\\n   Probability $$')\n",
    "        \n",
    "    lr = w1.pdf(r) / w0.pdf(r)\n",
    "    text = r\"Likelihood ratio: $$\\frac{{w(r|H_1)}}{{w(r|H_0)}} = \\frac{{ {:.2f} }}{{ {:.2f} }} = {:.2f} \\Rightarrow$$ Decision $$D_{}$$\".format(w1.pdf(r), w0.pdf(r), lr, 1 if lr >= 1 else 0)\n",
    "    out2.value = text\n",
    "\n",
    "# Display the outout widget\n",
    "out2"
   ]
  },
  {
   "cell_type": "code",
   "execution_count": null,
   "metadata": {},
   "outputs": [],
   "source": []
  }
 ],
 "metadata": {
  "kernelspec": {
   "display_name": "Python 3",
   "language": "python",
   "name": "python3"
  },
  "language_info": {
   "codemirror_mode": {
    "name": "ipython",
    "version": 3
   },
   "file_extension": ".py",
   "mimetype": "text/x-python",
   "name": "python",
   "nbconvert_exporter": "python",
   "pygments_lexer": "ipython3",
   "version": "3.8.5"
  }
 },
 "nbformat": 4,
 "nbformat_minor": 4
}
